{
 "cells": [
  {
   "cell_type": "code",
   "execution_count": 479,
   "id": "initial_id",
   "metadata": {
    "collapsed": true,
    "ExecuteTime": {
     "end_time": "2024-01-29T00:06:16.208074Z",
     "start_time": "2024-01-29T00:06:15.533477Z"
    }
   },
   "outputs": [],
   "source": [
    "import pandas as pd\n",
    "import numpy as np\n",
    "import matplotlib.pyplot as plt\n",
    "\n",
    "# Rohdaten importieren\n",
    "excel_file_path = '2023_eim.xlsx'\n",
    "all_sheets_dict = pd.read_excel(excel_file_path, sheet_name=None)\n",
    "\n",
    "# leere Liste erstellen für die DataFrames\n",
    "all_sheets_list = []\n",
    "\n",
    "# Schleife über alle DataFrames in all_sheets_dict und diese in die Liste all_sheets_list einfügen\n",
    "for sheet_name, sheet_df in all_sheets_dict.items():\n",
    "    # Spalte 'Jahr' aus dem Sheet-Namen erstellen\n",
    "    sheet_df['Jahr'] = sheet_name\n",
    "    all_sheets_list.append(sheet_df)\n",
    "\n",
    "# Zusammenführen der DataFrames in all_sheets_list zu einem DataFrame\n",
    "combined_df = pd.concat(all_sheets_list, ignore_index=True)\n",
    "\n",
    "# Speichern des DataFrames in eine Excel-Datei\n",
    "combined_df.to_excel('2023_eim_combined.xlsx', index=False)\n",
    "\n",
    "# Erstellen eines neuen DataFrames mit der Anzahl der einzigartigen Kunden und der Summe der Tage, gruppiert nach 'Mitarbeiter' und 'Jahr'\n",
    "grouped_df = combined_df.groupby(['Mitarbeiter', 'Jahr']).agg(\n",
    "    num_customers=pd.NamedAgg(column='Anforderer', aggfunc='nunique'),\n",
    "    sum_tage=pd.NamedAgg(column='Tage', aggfunc='sum')\n",
    ").reset_index()\n",
    "\n",
    "# Speichern des gruppierten DataFrames in eine Excel-Datei\n",
    "grouped_df.to_excel('2023_eim_grouped.xlsx', index=False)"
   ]
  },
  {
   "cell_type": "markdown",
   "source": [
    "Die gruppierten Daten dienen als Input für die weitere Aufbereitung der Daten, zu einer Excel Datei mit den Input Features."
   ],
   "metadata": {
    "collapsed": false
   },
   "id": "9c36e5429aa4c60e"
  },
  {
   "cell_type": "code",
   "outputs": [
    {
     "name": "stdout",
     "output_type": "stream",
     "text": [
      "   Jahr   Name  Alter  Berufserfahrung  Anzahl Kunden  Bestandskunden  Level  \\\n",
      "0  2017  BAERJ    NaN              NaN             45             NaN    NaN   \n",
      "1  2018  BAERJ    NaN              NaN             48             NaN    NaN   \n",
      "2  2019  BAERJ    NaN              NaN             54             NaN    NaN   \n",
      "3  2020  BAERJ    NaN              NaN             50             NaN    NaN   \n",
      "4  2021  BAERJ    NaN              NaN             36             NaN    NaN   \n",
      "\n",
      "   Fehltage  Vollzeit    Tage  Arbeitstage  Wirtschaftswachstum  \\\n",
      "0       NaN       NaN  112.17          247                  2.7   \n",
      "1       NaN       NaN  123.63          249                  1.0   \n",
      "2       NaN       NaN   74.69          249                  1.1   \n",
      "3       NaN       NaN  130.47          253                 -3.8   \n",
      "4       NaN       NaN  132.96          253                  3.2   \n",
      "\n",
      "   FIS Umsatz pro Mitarbeiter  Workdays  \n",
      "0                       98658       NaN  \n",
      "1                      102865       NaN  \n",
      "2                      104651       NaN  \n",
      "3                      107317       NaN  \n",
      "4                      109112       NaN  \n"
     ]
    }
   ],
   "source": [
    "# import input features\n",
    "input_file_path = 'input_features.xlsx'\n",
    "\n",
    "input_df = pd.read_excel(input_file_path)\n",
    "arbeitstage = {2017: 247, 2018: 249, 2019: 249, 2020: 253, 2021: 253, 2022: 250, 2023: 248}\n",
    "bip_deutschland = {2017: 2.7, 2018: 1, 2019: 1.1, 2020: -3.8, 2021: 3.2, 2022: 1.8, 2023: -0.3}\n",
    "fis_turnover_per_employee = {2017: 98658, 2018: 102865, 2019: 104651, 2020: 107317, 2021: 109112, 2022: 111318, 2023: 114443}\n",
    "\n",
    "# add column 'Arbeitstage' to the dataframe according to the column 'Jahr'\n",
    "input_df['Arbeitstage'] = input_df['Jahr'].map(arbeitstage)\n",
    "# add column 'BIP Deutschland' to the dataframe according to the column 'Jahr'\n",
    "input_df['Wirtschaftswachstum'] = input_df['Jahr'].map(bip_deutschland)\n",
    "# add column 'FIS Turnover per Employee' to the dataframe according to the column 'Jahr'\n",
    "input_df['FIS Umsatz pro Mitarbeiter'] = input_df['Jahr'].map(fis_turnover_per_employee)\n",
    "# multiply the column 'Vollzeit' with the column 'Arbeitstage' and add the result to the dataframe as column 'Workdays'\n",
    "input_df['Workdays'] = input_df['Vollzeit'] * input_df['Arbeitstage']\n",
    "\n",
    "# print the head of the dataframe\n",
    "print(input_df.head())"
   ],
   "metadata": {
    "collapsed": false,
    "ExecuteTime": {
     "end_time": "2024-01-29T00:06:16.229012Z",
     "start_time": "2024-01-29T00:06:16.209903Z"
    }
   },
   "id": "8a686e2f6c000123",
   "execution_count": 480
  },
  {
   "cell_type": "markdown",
   "source": [
    "Kalkuliere welche Kunden die Berater in jeweiligen Jahr betreut haben.\n",
    "Es soll nach Höhe des Aufwands geclustert werden.\n",
    "Hat ein Berater einen Kunden mit mehr als 80 Tagen, so soll dieser Kunde in die Kategorie A fallen.\n",
    "Hat ein Berater einen Kunden mit mehr als 40 Tagen, so soll dieser Kunde in die Kategorie B fallen.\n",
    "Hat ein Berater einen Kunden mit weniger als 40 Tagen, so soll dieser Kunde in die Kategorie C fallen.\n",
    "Hat ein Berater nur Kunden mit weniger als 10 Tagen soll diser in die Kategorie D fallen."
   ],
   "metadata": {
    "collapsed": false
   },
   "id": "f8f75f99ac9309cc"
  },
  {
   "cell_type": "code",
   "outputs": [],
   "source": [
    "# based on the combined_df dataframe, create a new dataframe with the customers and the categories A, B, C, D per Name\n",
    "\n",
    "# first filter the combined_df dataframe, select the highest value of 'Tage' for each 'Mitarbeiter' and 'Jahr'\n",
    "customers_filtered_highest_df = combined_df.loc[combined_df.groupby(['Mitarbeiter', 'Jahr'])['Tage'].idxmax()]\n",
    "# add a column 'Kategorie' to the dataframe\n",
    "customers_filtered_highest_df['Kategorie'] = ''\n",
    "# set 'Kategorie' to 'D' if 'Tage' is less than 10 for the row in customers_filtered_highest_df\n",
    "customers_filtered_highest_df.loc[customers_filtered_highest_df['Tage'] <= 10, 'Kategorie'] = 0\n",
    "# set 'Kategorie' to 'C' if 'Tage' is greater than 40 for the row in customers_filtered_highest_df\n",
    "customers_filtered_highest_df.loc[customers_filtered_highest_df['Tage'] > 10, 'Kategorie'] = 1\n",
    "# set 'Kategorie' to 'B' if 'Tage' is greater than 40 for the row in customers_filtered_highest_df\n",
    "customers_filtered_highest_df.loc[customers_filtered_highest_df['Tage'] > 40, 'Kategorie'] = 2\n",
    "# set 'Kategorie' to 'A' if 'Tage' is greater than 80 for the row in customers_filtered_highest_df\n",
    "customers_filtered_highest_df.loc[customers_filtered_highest_df['Tage'] > 80, 'Kategorie'] = 3\n",
    "# set 'Kategorie' to 'B' if 'Tage' is greater than 40 for the row in customers_filtered_highest_df\n",
    "\n",
    "# save customers_filtered_highest_df to an excel file\n",
    "customers_filtered_highest_df.to_excel('customers_filtered_highest.xlsx', index=False)\n"
   ],
   "metadata": {
    "collapsed": false,
    "ExecuteTime": {
     "end_time": "2024-01-29T00:06:16.247785Z",
     "start_time": "2024-01-29T00:06:16.225170Z"
    }
   },
   "id": "358e00823872c8e6",
   "execution_count": 481
  },
  {
   "cell_type": "code",
   "outputs": [],
   "source": [
    "# Convert 'Jahr' to int (if it's safe to do so) in both DataFrames\n",
    "input_df['Jahr'] = input_df['Jahr'].astype(int)\n",
    "customers_filtered_highest_df['Jahr'] = customers_filtered_highest_df['Jahr'].astype(int)\n",
    "\n",
    "# based on 'Name' and 'Jahr' join 'Kategorie' from customers_filtered_highest_df to input_df where 'Mitarbeiter' is equal to 'Name' and 'Jahr' is equal to 'Jahr'\n",
    "input_df = input_df.merge(customers_filtered_highest_df[['Mitarbeiter', 'Jahr', 'Kategorie']], left_on=['Name', 'Jahr'], right_on=['Mitarbeiter', 'Jahr'], how='left')\n",
    "\n",
    "# drop column 'Mitarbeiter' from input_df\n",
    "input_df.drop(columns=['Mitarbeiter'], inplace=True)\n",
    "\n",
    "# convert 'Kategorie' to int\n",
    "input_df['Kategorie'] = input_df['Kategorie'].astype(int)\n"
   ],
   "metadata": {
    "collapsed": false,
    "ExecuteTime": {
     "end_time": "2024-01-29T00:06:16.254251Z",
     "start_time": "2024-01-29T00:06:16.250219Z"
    }
   },
   "id": "fe080cdb394daf8e",
   "execution_count": 482
  },
  {
   "cell_type": "code",
   "outputs": [
    {
     "name": "stdout",
     "output_type": "stream",
     "text": [
      "     Jahr      Name  Alter  Berufserfahrung  Anzahl Kunden  Bestandskunden  \\\n",
      "7    2017    BAUERS   31.0              5.0              9             0.0   \n",
      "8    2018    BAUERS   32.0              6.0             17             0.0   \n",
      "9    2019    BAUERS   33.0              7.0             13             0.0   \n",
      "10   2020    BAUERS   34.0              8.0              8             0.0   \n",
      "18   2022   BERGENR   30.0              1.0             14             1.0   \n",
      "..    ...       ...    ...              ...            ...             ...   \n",
      "236  2019  ZIEGLERP   34.0              7.0              9             0.0   \n",
      "237  2020  ZIEGLERP   35.0              8.0              6             0.0   \n",
      "238  2021  ZIEGLERP   36.0              9.0              4             0.0   \n",
      "239  2022  ZIEGLERP   37.0             10.0              3             0.0   \n",
      "240  2023  ZIEGLERP   38.0             11.0              5             0.0   \n",
      "\n",
      "     Level  Fehltage  Vollzeit    Tage  Arbeitstage  Wirtschaftswachstum  \\\n",
      "7      4.0       NaN       1.0  122.01          247                  2.7   \n",
      "8      4.0       NaN       1.0  114.59          249                  1.0   \n",
      "9      5.0       NaN       1.0  121.35          249                  1.1   \n",
      "10     5.0       NaN       1.0  111.85          253                 -3.8   \n",
      "18     1.0       7.0       1.0   78.71          250                  1.8   \n",
      "..     ...       ...       ...     ...          ...                  ...   \n",
      "236    4.0       NaN       1.0  160.47          249                  1.1   \n",
      "237    4.0       NaN       1.0  164.63          253                 -3.8   \n",
      "238    4.0       NaN       1.0  171.18          253                  3.2   \n",
      "239    5.0       NaN       1.0  155.09          250                  1.8   \n",
      "240    5.0       NaN       1.0  160.78          248                 -0.3   \n",
      "\n",
      "     FIS Umsatz pro Mitarbeiter  Workdays  Kategorie  \n",
      "7                         98658     247.0          3  \n",
      "8                        102865     249.0          2  \n",
      "9                        104651     249.0          3  \n",
      "10                       107317     253.0          3  \n",
      "18                       111318     250.0          1  \n",
      "..                          ...       ...        ...  \n",
      "236                      104651     249.0          3  \n",
      "237                      107317     253.0          3  \n",
      "238                      109112     253.0          3  \n",
      "239                      111318     250.0          3  \n",
      "240                      114443     248.0          3  \n",
      "\n",
      "[125 rows x 15 columns]\n"
     ]
    }
   ],
   "source": [
    "# filter the data in the dataframe input_df only to show data where alter is not NaN\n",
    "input_df = input_df[input_df['Alter'].notna()]\n",
    "print(input_df)"
   ],
   "metadata": {
    "collapsed": false,
    "ExecuteTime": {
     "end_time": "2024-01-29T00:06:16.257110Z",
     "start_time": "2024-01-29T00:06:16.255710Z"
    }
   },
   "id": "4be4a782ccf58031",
   "execution_count": 483
  },
  {
   "cell_type": "code",
   "outputs": [],
   "source": [
    "# save the dataframe to an excel file\n",
    "input_df.to_excel('input_features_filtered.xlsx', index=False)"
   ],
   "metadata": {
    "collapsed": false,
    "ExecuteTime": {
     "end_time": "2024-01-29T00:06:16.279402Z",
     "start_time": "2024-01-29T00:06:16.257841Z"
    }
   },
   "id": "8cc7d622fff3d2d1",
   "execution_count": 484
  },
  {
   "cell_type": "markdown",
   "source": [
    "Aufbau eines Models mit den Input Features.\n",
    "Jahr, Alter, Berufserfahrung, Anzahl Kunden, Bestandskunden\n",
    "Die Target Variable ist die Variable Tage."
   ],
   "metadata": {
    "collapsed": false
   },
   "id": "33c40d8b9155585c"
  },
  {
   "cell_type": "code",
   "outputs": [
    {
     "name": "stdout",
     "output_type": "stream",
     "text": [
      "Mean Squared Error CV: 579.5804576668726\n",
      "Mean Absolute Error CV: 18.909274946502745\n",
      "Root Mean Squared Error CV: 24.074477308279665\n",
      "Mean Squared Error Train: 486.8721909041801\n",
      "Mean Absolute Error Train: 17.11958742725777\n",
      "Root Mean Squared Error Train: 22.065180509213608\n"
     ]
    }
   ],
   "source": [
    "from sklearn.model_selection import train_test_split\n",
    "from sklearn.linear_model import LinearRegression\n",
    "from sklearn.metrics import mean_squared_error\n",
    "\n",
    "# Prepare the data for training the model\n",
    "#X = input_df[['Alter', 'Berufserfahrung', 'Anzahl Kunden', 'Bestandskunden', 'FIS Umsatz pro Mitarbeiter', 'Workdays', 'Level', 'Kategorie']]\n",
    "X = input_df[['Alter', 'Anzahl Kunden', 'Bestandskunden', 'Level', 'Kategorie']]\n",
    "y = input_df['Tage']\n",
    "\n",
    "# Split the data into training and cross validation data - 80% training, 20% cross validation\n",
    "X_train, X_cv, y_train, y_cv = train_test_split(X, y, test_size=0.2, random_state=42)\n",
    "\n",
    "# Train the model\n",
    "model = LinearRegression()\n",
    "model.fit(X_train, y_train)\n",
    "\n",
    "# save the model to disk\n",
    "import pickle\n",
    "filename = 'bt_model.sav'\n",
    "pickle.dump(model, open(filename, 'wb'))\n",
    "\n",
    "# Evaluate the model with the cross validation data\n",
    "y_pred_cv = model.predict(X_cv)\n",
    "# Evaluate the model with the training data\n",
    "y_pred_train = model.predict(X_train)\n",
    "\n",
    "# Mean Squared Error with the cross validation data\n",
    "mse_cv = mean_squared_error(y_cv, y_pred_cv)\n",
    "# Mean Squared Error with the training data\n",
    "mse_train = mean_squared_error(y_train, y_pred_train)\n",
    "# Calculate the Mean Absolute Error with the cross validation data\n",
    "mae_cv = np.mean(np.abs(y_cv - y_pred_cv))\n",
    "# Calculate the Mean Absolute Error with the training data\n",
    "mae_train = np.mean(np.abs(y_train - y_pred_train))\n",
    "# Root Mean Squared Error with the cross validation data\n",
    "rmse_cv = np.sqrt(mse_cv)\n",
    "# Root Mean Squared Error with the training data\n",
    "rmse_train = np.sqrt(mse_train)\n",
    "print(f'Mean Squared Error CV: {mse_cv}')\n",
    "print(f'Mean Absolute Error CV: {mae_cv}')\n",
    "print(f'Root Mean Squared Error CV: {rmse_cv}')\n",
    "print(f'Mean Squared Error Train: {mse_train}')\n",
    "print(f'Mean Absolute Error Train: {mae_train}')\n",
    "print(f'Root Mean Squared Error Train: {rmse_train}')"
   ],
   "metadata": {
    "collapsed": false,
    "ExecuteTime": {
     "end_time": "2024-01-29T00:06:16.287747Z",
     "start_time": "2024-01-29T00:06:16.277559Z"
    }
   },
   "id": "e1158369ddf1d886",
   "execution_count": 485
  },
  {
   "cell_type": "code",
   "outputs": [
    {
     "name": "stdout",
     "output_type": "stream",
     "text": [
      "       y_cv   y_pred_cv\n",
      "52   143.49  145.669545\n",
      "129   58.27   59.060832\n",
      "116  142.28  144.991315\n",
      "178  147.35  125.584913\n",
      "152   27.87   26.087706\n",
      "193  133.17  120.782976\n",
      "155   76.05   60.565347\n",
      "239  155.09  155.404855\n",
      "202  113.76  140.625994\n",
      "18    78.71   40.090878\n",
      "81    78.49   84.995739\n",
      "232  143.47  160.274094\n",
      "131   84.64   84.078836\n",
      "205   28.19   68.742437\n",
      "53   111.82  151.734300\n",
      "179  150.03  126.021445\n",
      "37    51.95   91.819394\n",
      "210  162.85  121.507816\n",
      "38    55.69   92.255927\n",
      "230  119.76  136.082375\n",
      "141  130.73  130.602293\n",
      "180  148.85  135.142009\n",
      "7    122.01  152.543965\n",
      "73    98.43  107.555409\n",
      "85    86.02  119.909912\n"
     ]
    }
   ],
   "source": [
    "# print the y_cv and y_pred_cv values and compare them in a dataframe\n",
    "output_df = pd.DataFrame({'y_cv': y_cv, 'y_pred_cv': y_pred_cv})\n",
    "print(output_df)\n",
    "\n",
    "# save the output_df to an excel file\n",
    "output_df.to_excel('output.xlsx', index=False)"
   ],
   "metadata": {
    "collapsed": false,
    "ExecuteTime": {
     "end_time": "2024-01-29T00:06:16.288501Z",
     "start_time": "2024-01-29T00:06:16.283169Z"
    }
   },
   "id": "b841bd506c2b6779",
   "execution_count": 486
  },
  {
   "cell_type": "code",
   "outputs": [
    {
     "data": {
      "text/plain": "<Figure size 800x600 with 1 Axes>",
      "image/png": "[encoded data removed]"
     },
     "metadata": {},
     "output_type": "display_data"
    }
   ],
   "source": [
    "# visualize y_cv in blue and y_pred_cv in red in a scatter plot\n",
    "# Plotting\n",
    "plt.figure(figsize=(8, 6))\n",
    "plt.scatter(y_cv, y_pred_cv, alpha=0.7)\n",
    "plt.scatter(y_train, y_pred_train, alpha=0.5)\n",
    "plt.xlabel('Actual Values')\n",
    "plt.ylabel('Predicted Values')\n",
    "plt.title('Actual vs. Predicted Values')\n",
    "plt.plot([y_cv.min(), y_cv.max()], [y_cv.min(), y_cv.max()], 'k--', lw=2)  # Diagonal line\n",
    "plt.show()\n"
   ],
   "metadata": {
    "collapsed": false,
    "ExecuteTime": {
     "end_time": "2024-01-29T00:10:59.444070Z",
     "start_time": "2024-01-29T00:10:59.377622Z"
    }
   },
   "id": "7c0ee9e06d34792c",
   "execution_count": 490
  },
  {
   "cell_type": "markdown",
   "source": [
    "Zeige die Korellation der Input Features mit der Target Variable in je einem Scatter Plot.  "
   ],
   "metadata": {
    "collapsed": false
   },
   "id": "59ea6e26dc890515"
  },
  {
   "cell_type": "code",
   "outputs": [],
   "source": [
    "# show the correlation of the input features with the target variable in a scatter plot\n",
    "fig, axs = plt.subplots(3, 3, figsize=(20, 20))\n",
    "axs[0, 0].scatter(X['Alter'], y)\n",
    "axs[0, 0].set_title('Alter')\n",
    "axs[0, 0].set_xlabel('Alter')\n",
    "axs[0, 0].set_ylabel('Beratertage')\n",
    "#axs[0, 1].scatter(X['Berufserfahrung'], y)\n",
    "#axs[0, 1].set_title('Berufserfahrung')\n",
    "#axs[0, 2].scatter(X['Workdays'], y)\n",
    "#axs[0, 2].set_title('Workdays')\n",
    "axs[1, 0].scatter(X['Anzahl Kunden'], y)\n",
    "axs[1, 0].set_title('Anzahl Kunden')\n",
    "axs[1, 1].scatter(X['Bestandskunden'], y)\n",
    "axs[1, 1].set_title('Bestandskunden')\n",
    "axs[1, 2].scatter(X['Kategorie'], y)\n",
    "axs[1, 2].set_title('Kategorie')\n",
    "#axs[2, 0].scatter(X['FIS Umsatz pro Mitarbeiter'], y)\n",
    "#axs[2, 0].set_title('FIS Umsatz pro Mitarbeiter')\n",
    "axs[2, 1].scatter(X['Level'], y)\n",
    "axs[2, 1].set_title('Level')\n",
    "\n",
    "plt.show()"
   ],
   "metadata": {
    "collapsed": false,
    "ExecuteTime": {
     "end_time": "2024-01-29T00:06:16.350359Z",
     "start_time": "2024-01-29T00:06:16.347773Z"
    }
   },
   "id": "86aab564fdf55224",
   "execution_count": null
  },
  {
   "cell_type": "code",
   "outputs": [],
   "source": [
    "import seaborn as sns\n",
    "\n",
    "correlation_matrix = X_train.corr()\n",
    "\n",
    "# Set up the matplotlib figure\n",
    "plt.figure(figsize=(10, 8))\n",
    "\n",
    "# Draw the heatmap\n",
    "sns.heatmap(correlation_matrix, annot=True, fmt=\".2f\", linewidths=.5)\n",
    "\n",
    "# Add title\n",
    "plt.title('Correlation Matrix')\n",
    "\n",
    "# Show the plot\n",
    "plt.show()"
   ],
   "metadata": {
    "collapsed": false,
    "ExecuteTime": {
     "start_time": "2024-01-29T00:06:16.348852Z"
    }
   },
   "id": "8945f4b8afbc311e",
   "execution_count": null
  },
  {
   "cell_type": "code",
   "outputs": [],
   "source": [
    "# Calculate correlation of each independent variable in X with the target variable y\n",
    "correlation = X.corrwith(y)\n",
    "\n",
    "# create a bar plot of the correlation of each independent variable with the target variable\n",
    "plt.figure(figsize=(10, 6))\n",
    "correlation.plot(kind='bar', color='blue')\n",
    "# plot the values of each bar on the bar plot\n",
    "for index, value in enumerate(correlation):\n",
    "    plt.text(index, value, str(round(value, 2)))\n",
    "plt.title('Correlation of the Features with the Target Variable')\n",
    "plt.xlabel('Features')\n",
    "plt.ylabel('Correlation Coefficient')\n",
    "plt.show()"
   ],
   "metadata": {
    "collapsed": false,
    "ExecuteTime": {
     "start_time": "2024-01-29T00:06:16.349992Z"
    }
   },
   "id": "5ce8fc7e745f5214",
   "execution_count": null
  },
  {
   "cell_type": "code",
   "outputs": [],
   "source": [
    "# create a pearson correlation test\n",
    "from scipy.stats import pearsonr\n",
    "\n",
    "# calculate the pearson correlation coefficient and the p-value for the correlation for every feature within X\n",
    "for column in X:\n",
    "    corr, p = pearsonr(X[column], y)\n",
    "    print(f'Pearsons correlation coefficient between {column} and y: {corr}')\n",
    "    print(f'p-value: {p}')\n",
    "    if p > 0.05:\n",
    "        print('The correlation is not significant')\n",
    "    else:\n",
    "        print('The correlation is significant')\n",
    "    print('.......................................................')"
   ],
   "metadata": {
    "collapsed": false,
    "ExecuteTime": {
     "start_time": "2024-01-29T00:06:16.350992Z"
    }
   },
   "id": "d66ee0e98b846f24",
   "execution_count": null
  },
  {
   "cell_type": "markdown",
   "source": [
    "# Neuronales Netz\n",
    "Nachdem das Model mit Hilfe von Linearer Regression erstellt wurde, wird nun ein Model mit Hilfe eines neuronalen Netzes erstellt."
   ],
   "metadata": {
    "collapsed": false
   },
   "id": "97b96149994730bc"
  },
  {
   "cell_type": "code",
   "outputs": [],
   "source": [
    "import tensorflow as tf\n",
    "#from sklearn.preprocessing import StandardScaler\n",
    "import keras\n",
    "from keras import layers\n",
    "\n",
    "#scaler = StandardScaler()\n",
    "#X_scaled = scaler.fit_transform(X)\n",
    "\n",
    "# Split the data into training and cross validation data - 80% training, 20% cross validation\n",
    "X_train_nn, X_cv_nn, y_train_nn, y_cv_nn = train_test_split(X, y, test_size=0.2, random_state=42)\n",
    "\n",
    "print(\n",
    "    f\"Using {len(X_train_nn)} records for training \"\n",
    "    f\"and {len(X_cv_nn)} records for cross validation\")\n",
    "# print all data types of X_train_nn\n",
    "print(X_train_nn.dtypes)"
   ],
   "metadata": {
    "collapsed": false,
    "ExecuteTime": {
     "start_time": "2024-01-29T00:06:16.351929Z"
    }
   },
   "id": "d117034886dfeb38",
   "execution_count": null
  },
  {
   "cell_type": "code",
   "outputs": [],
   "source": [
    "# build the neural network model\n",
    "nn_model = tf.keras.models.Sequential([\n",
    "    tf.keras.layers.Dense(32, activation='relu', input_shape=(X_train.shape[1],)),\n",
    "    tf.keras.layers.Dense(8, activation='relu'),\n",
    "    tf.keras.layers.Dense(1)\n",
    "])\n",
    "\n",
    "# compile the model\n",
    "nn_model.compile(optimizer='adam', loss='mean_squared_error', metrics=['mean_absolute_error'])\n",
    "\n",
    "# train the model\n",
    "# stop training when the validation loss metric has stopped decreasing for 5 epochs\n",
    "early_stopping = tf.keras.callbacks.EarlyStopping(\n",
    "    monitor='val_loss',\n",
    "    patience=2,\n",
    "    mode='min'\n",
    ")\n",
    "\n",
    "nn_model.fit(X_train_nn, y_train_nn, epochs=120, batch_size=1, validation_data=(X_cv_nn, y_cv_nn))\n"
   ],
   "metadata": {
    "collapsed": false,
    "ExecuteTime": {
     "start_time": "2024-01-29T00:06:16.352708Z"
    }
   },
   "id": "105cd973b007d378",
   "execution_count": null
  },
  {
   "cell_type": "code",
   "outputs": [],
   "source": [
    "# evaluate the model with the cross validation data\n",
    "print(\"Results for the cross validation data:\")\n",
    "print(nn_model.evaluate(X_cv_nn, y_cv_nn))\n",
    "\n",
    "# evaluate the model with the training data\n",
    "print(\"Results for the training data:\")\n",
    "print(nn_model.evaluate(X_train_nn, y_train_nn))\n",
    "\n",
    "print(\".......................................................\")\n",
    "print(\"Results from the linear regression model:\")\n",
    "print(f'Mean Squared Error CV: {mse_cv}')\n",
    "print(f'Mean Absolute Error CV: {mae_cv}')\n",
    "print(f'Root Mean Squared Error CV: {rmse_cv}')\n",
    "print(f'Mean Squared Error Train: {mse_train}')\n",
    "print(f'Mean Absolute Error Train: {mae_train}')\n",
    "print(f'Root Mean Squared Error Train: {rmse_train}')"
   ],
   "metadata": {
    "collapsed": false,
    "ExecuteTime": {
     "start_time": "2024-01-29T00:06:16.353339Z"
    }
   },
   "id": "8b1a3faeb8c7c3ca",
   "execution_count": null
  },
  {
   "cell_type": "code",
   "outputs": [],
   "source": [
    "# save the tensorflow model to disk\n",
    "nn_model.save('tf_bt_model.keras')"
   ],
   "metadata": {
    "collapsed": false,
    "ExecuteTime": {
     "start_time": "2024-01-29T00:06:16.353954Z"
    }
   },
   "id": "43d9763be84615b0",
   "execution_count": null
  },
  {
   "cell_type": "code",
   "outputs": [],
   "source": [],
   "metadata": {
    "collapsed": false,
    "ExecuteTime": {
     "end_time": "2024-01-29T00:06:16.354732Z",
     "start_time": "2024-01-29T00:06:16.354705Z"
    }
   },
   "id": "adf2d53b6c957907",
   "execution_count": null
  }
 ],
 "metadata": {
  "kernelspec": {
   "display_name": "Python 3",
   "language": "python",
   "name": "python3"
  },
  "language_info": {
   "codemirror_mode": {
    "name": "ipython",
    "version": 2
   },
   "file_extension": ".py",
   "mimetype": "text/x-python",
   "name": "python",
   "nbconvert_exporter": "python",
   "pygments_lexer": "ipython2",
   "version": "2.7.6"
  }
 },
 "nbformat": 4,
 "nbformat_minor": 5
}
